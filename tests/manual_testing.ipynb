{
 "cells": [
  {
   "cell_type": "markdown",
   "metadata": {},
   "source": [
    "Below are live tests that will run using your actual Google Sheets credentials and interact with Google's APIs. If there are any failures, test workbooks may be left behind."
   ]
  },
  {
   "cell_type": "code",
   "execution_count": 1,
   "metadata": {},
   "outputs": [],
   "source": [
    "import datetime as dt\n",
    "import random\n",
    "\n",
    "from google.oauth2.credentials import Credentials as base_credentials\n",
    "from google.oauth2.service_account import Credentials as service_credentials\n",
    "import pandas as pd\n",
    "\n",
    "import datasheets"
   ]
  },
  {
   "cell_type": "markdown",
   "metadata": {},
   "source": [
    "# Client"
   ]
  },
  {
   "cell_type": "code",
   "execution_count": 2,
   "metadata": {},
   "outputs": [],
   "source": [
    "# Can create a non-service account\n",
    "nonsvc_client = datasheets.Client()\n",
    "assert isinstance(nonsvc_client.credentials, base_credentials)\n",
    "assert not hasattr(nonsvc_client.credentials, 'service_account_email')\n",
    "del nonsvc_client"
   ]
  },
  {
   "cell_type": "code",
   "execution_count": 3,
   "metadata": {},
   "outputs": [],
   "source": [
    "# Can create a service account\n",
    "service_client = datasheets.Client(service=True)\n",
    "assert isinstance(service_client.credentials, service_credentials)\n",
    "assert hasattr(service_client.credentials, 'service_account_email')\n",
    "del service_client"
   ]
  },
  {
   "cell_type": "code",
   "execution_count": 4,
   "metadata": {},
   "outputs": [],
   "source": [
    "filename = 'datasheets_manual_testing_client_' + str(random.randint(0, 100000))\n",
    "client = datasheets.Client()\n",
    "\n",
    "# Can create a workbook\n",
    "wkb = client.create_workbook(filename)\n",
    "assert isinstance(wkb, datasheets.Workbook)\n",
    "\n",
    "# Can fetch a workbook\n",
    "wkb_again = client.fetch_workbook(filename)\n",
    "assert isinstance(wkb_again, datasheets.Workbook)\n",
    "assert wkb.file_id == wkb_again.file_id\n",
    "\n",
    "# Can fetch workbooks info\n",
    "wkb_info = client.fetch_workbooks_info()\n",
    "assert isinstance(wkb_info, pd.DataFrame)\n",
    "assert len(wkb_info) > 0  # We know at least this workbook exists\n",
    "del wkb_info\n",
    "\n",
    "# Can delete a workbook and assert it no longer exists\n",
    "client.delete_workbook(filename)\n",
    "wkb_info = client.fetch_workbooks_info()\n",
    "assert len(wkb_info[wkb_info['name'] == filename]) == 0\n",
    "\n",
    "del client, wkb, wkb_again, wkb_info"
   ]
  },
  {
   "cell_type": "markdown",
   "metadata": {},
   "source": [
    "# Workbook"
   ]
  },
  {
   "cell_type": "code",
   "execution_count": 5,
   "metadata": {},
   "outputs": [],
   "source": [
    "filename = 'datasheets_manual_testing_workbook_' + str(random.randint(0, 100000))\n",
    "tabname = 'mytab'\n",
    "client = datasheets.Client()\n",
    "\n",
    "\n",
    "wkb = client.create_workbook(filename)\n",
    "\n",
    "# Can create a tab\n",
    "tab = wkb.create_tab(tabname)\n",
    "assert isinstance(tab, datasheets.Tab)\n",
    "\n",
    "# Can fetch a tab\n",
    "tab_again = wkb.fetch_tab(tabname)\n",
    "assert isinstance(tab_again, datasheets.Tab)\n",
    "assert tab.tab_id == tab_again.tab_id\n",
    "\n",
    "# Can fetch all tab names\n",
    "tab_names = wkb.fetch_tab_names()\n",
    "assert isinstance(tab_names, pd.DataFrame)\n",
    "assert len(tab_names) == 2\n",
    "\n",
    "# Can fetch permissions\n",
    "perms = wkb.fetch_permissions()\n",
    "assert isinstance(perms, pd.DataFrame)\n",
    "assert len(perms) > 0  # We know at least we have permissions\n",
    "\n",
    "# Can delete a tab\n",
    "wkb.delete_tab(tabname)\n",
    "\n",
    "client.delete_workbook(filename)\n",
    "del client, wkb, tab, tab_again, tab_names"
   ]
  },
  {
   "cell_type": "markdown",
   "metadata": {},
   "source": [
    "# Tab"
   ]
  },
  {
   "cell_type": "code",
   "execution_count": 6,
   "metadata": {},
   "outputs": [
    {
     "data": {
      "text/html": [
       "<div>\n",
       "<style scoped>\n",
       "    .dataframe tbody tr th:only-of-type {\n",
       "        vertical-align: middle;\n",
       "    }\n",
       "\n",
       "    .dataframe tbody tr th {\n",
       "        vertical-align: top;\n",
       "    }\n",
       "\n",
       "    .dataframe thead th {\n",
       "        text-align: right;\n",
       "    }\n",
       "</style>\n",
       "<table border=\"1\" class=\"dataframe\">\n",
       "  <thead>\n",
       "    <tr style=\"text-align: right;\">\n",
       "      <th></th>\n",
       "      <th>alpha</th>\n",
       "      <th>beta</th>\n",
       "      <th>gamma</th>\n",
       "      <th>delta</th>\n",
       "      <th>epsilon</th>\n",
       "    </tr>\n",
       "  </thead>\n",
       "  <tbody>\n",
       "    <tr>\n",
       "      <th>0</th>\n",
       "      <td>a</td>\n",
       "      <td>1.23</td>\n",
       "      <td>this is a sentence.</td>\n",
       "      <td>NaN</td>\n",
       "      <td>None</td>\n",
       "    </tr>\n",
       "    <tr>\n",
       "      <th>1</th>\n",
       "      <td>3.23</td>\n",
       "      <td>7</td>\n",
       "      <td>2016-01-01</td>\n",
       "      <td>NaN</td>\n",
       "      <td>None</td>\n",
       "    </tr>\n",
       "    <tr>\n",
       "      <th>2</th>\n",
       "      <td>None</td>\n",
       "      <td>None</td>\n",
       "      <td>None</td>\n",
       "      <td>NaN</td>\n",
       "      <td>None</td>\n",
       "    </tr>\n",
       "    <tr>\n",
       "      <th>3</th>\n",
       "      <td>2010-08-07 16:13:00</td>\n",
       "      <td>True</td>\n",
       "      <td>0.19</td>\n",
       "      <td>0.54</td>\n",
       "      <td>None</td>\n",
       "    </tr>\n",
       "    <tr>\n",
       "      <th>4</th>\n",
       "      <td>None</td>\n",
       "      <td>10:03:00</td>\n",
       "      <td>3.23</td>\n",
       "      <td>NaN</td>\n",
       "      <td>None</td>\n",
       "    </tr>\n",
       "    <tr>\n",
       "      <th>5</th>\n",
       "      <td>None</td>\n",
       "      <td>None</td>\n",
       "      <td>None</td>\n",
       "      <td>NaN</td>\n",
       "      <td>None</td>\n",
       "    </tr>\n",
       "  </tbody>\n",
       "</table>\n",
       "</div>"
      ],
      "text/plain": [
       "                 alpha      beta                gamma  delta epsilon\n",
       "0                    a      1.23  this is a sentence.    NaN    None\n",
       "1                 3.23         7           2016-01-01    NaN    None\n",
       "2                 None      None                 None    NaN    None\n",
       "3  2010-08-07 16:13:00      True                 0.19   0.54    None\n",
       "4                 None  10:03:00                 3.23    NaN    None\n",
       "5                 None      None                 None    NaN    None"
      ]
     },
     "execution_count": 6,
     "metadata": {},
     "output_type": "execute_result"
    }
   ],
   "source": [
    "df = pd.DataFrame(\n",
    "    data=[\n",
    "        ['a', 1.23, 'this is a sentence.'],\n",
    "        [3.23, 7.0, dt.date(2016, 1, 1), None],\n",
    "        [],\n",
    "        [dt.datetime(2010, 8, 7, 16, 13), True, 0.19, 0.54, None],\n",
    "        [None, dt.time(10, 3), 3.23, None, None],\n",
    "        [None, None, None, None, None]\n",
    "    ], columns=('alpha', 'beta', 'gamma', 'delta', 'epsilon')\n",
    ")\n",
    "df"
   ]
  },
  {
   "cell_type": "code",
   "execution_count": 7,
   "metadata": {},
   "outputs": [],
   "source": [
    "filename = 'datasheets_manual_testing_tab_' + str(random.randint(0, 100000))\n",
    "tabname = 'mytab'\n",
    "\n",
    "client = datasheets.Client()\n",
    "wkb = client.create_workbook(filename)\n",
    "tab = wkb.create_tab(tabname)\n",
    "\n",
    "# Can insert data\n",
    "tab.insert_data(df)\n",
    "\n",
    "# Can fetch back the data we inserted\n",
    "df_fetched = tab.fetch_data()\n",
    "assert df_fetched.drop('index0', axis=1).equals(df)\n",
    "\n",
    "# Can append data\n",
    "tab.append_data(df)\n",
    "df_fetched_again = tab.fetch_data()\n",
    "assert len(df_fetched_again) == (2 * len(df_fetched))\n",
    "\n",
    "# Can clear data\n",
    "tab.clear_data()\n",
    "df_after_clearing = tab.fetch_data()\n",
    "assert df_after_clearing.empty\n",
    "\n",
    "client.delete_workbook(filename)\n",
    "\n",
    "del client, wkb, tab, df_fetched, df_fetched_again, df_after_clearing"
   ]
  },
  {
   "cell_type": "markdown",
   "metadata": {},
   "source": [
    "# Convenience"
   ]
  },
  {
   "cell_type": "code",
   "execution_count": 8,
   "metadata": {},
   "outputs": [],
   "source": [
    "filename = 'datasheets_manual_testing_tab_' + str(random.randint(0, 100000))\n",
    "tabname = 'mytab'\n",
    "\n",
    "\n",
    "# Can create a tab in a new workbook\n",
    "tab = datasheets.create_tab_in_new_workbook(filename, tabname)\n",
    "assert isinstance(tab, datasheets.Tab)\n",
    "assert tab.workbook.filename == filename\n",
    "\n",
    "# Delete this workbook\n",
    "client = datasheets.Client()\n",
    "client.delete_workbook(filename)"
   ]
  },
  {
   "cell_type": "code",
   "execution_count": 9,
   "metadata": {},
   "outputs": [],
   "source": [
    "filename = 'datasheets_manual_testing_tab_' + str(random.randint(0, 100000))\n",
    "tabname = 'mytab'\n",
    "\n",
    "client = datasheets.Client()\n",
    "client.create_workbook(filename)\n",
    "\n",
    "# Can create a tab in an existing workbook\n",
    "tab = datasheets.create_tab_in_existing_workbook(filename, tabname)\n",
    "assert isinstance(tab, datasheets.Tab)\n",
    "assert tab.workbook.filename == filename\n",
    "\n",
    "# Delete this workbook\n",
    "client.delete_workbook(filename)"
   ]
  },
  {
   "cell_type": "markdown",
   "metadata": {},
   "source": [
    "# Remove Left-Over Files"
   ]
  },
  {
   "cell_type": "code",
   "execution_count": 10,
   "metadata": {},
   "outputs": [],
   "source": [
    "client = datasheets.Client()\n",
    "\n",
    "wkb_info = client.fetch_workbooks_info()\n",
    "mask = wkb_info.name.str.contains('datasheets_manual_testing')\n",
    "workbook_names = wkb_info.loc[mask]\n",
    "\n",
    "for file_id in workbook_names['id']:\n",
    "    print(\"Deleting workbook with file_id='{}'\".format(file_id))\n",
    "    client.delete_workbook(file_id=file_id)"
   ]
  }
 ],
 "metadata": {
  "kernelspec": {
   "display_name": "Python 3",
   "language": "python",
   "name": "python3"
  },
  "language_info": {
   "codemirror_mode": {
    "name": "ipython",
    "version": 3
   },
   "file_extension": ".py",
   "mimetype": "text/x-python",
   "name": "python",
   "nbconvert_exporter": "python",
   "pygments_lexer": "ipython3",
   "version": "3.6.4"
  }
 },
 "nbformat": 4,
 "nbformat_minor": 2
}
